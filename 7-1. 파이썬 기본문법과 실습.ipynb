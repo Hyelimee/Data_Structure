{
 "cells": [
  {
   "cell_type": "markdown",
   "id": "5dce7e77",
   "metadata": {},
   "source": [
    "1. 파이썬의 기본문법\n",
    "- 자료형 : 기본 or 컬렉션\n",
    "    - 기본\n",
    "        - 수치형(정수형, 실수형)\n",
    "        - 논리형(부울형)\n",
    "    - 컬렉션\n",
    "        - 문자열\n",
    "        - 리스트\n",
    "        - 튜플\n",
    "        - 딕셔너리\n",
    "        - 세트\n",
    "\n",
    "- 제어문\n",
    "    - 순차구조 : 차례대로 처음부터 끝까지 순차적으로 진행하는 것\n",
    "    - 선택구조 : 주어진 조건에 따라 선택하는 것\n",
    "    - 반복구조 : 주어진 조건을 만족할 때는 계속 반복, 만족하지 않을 때는 빠져나옴\n",
    "        - for문 : 대부분 반복할 횟수를 정확히 알고 있을 때 많이 사용\n",
    "        - while문 : 조건을 만족하는 동안 반복할 때 사용\n",
    "\n",
    "- 함수 : 여러개의 코드 또는 명령문을 하나의 함수로 묶어서 만들고 필요할 때 호출하는 형태\n",
    "    - 프로그램을 구조화함\n",
    "    - 가독성이 좋아지도록 함\n",
    "    - def 라는 예약어를 이용해 함수 이름을 정의\n",
    "    - 반드시 함수를 호출(call)해야함\n",
    "\n",
    "- 함수모듈 : 비슷한 함수끼리 또는 변수끼리 모아둔 파일\n",
    "    - 이미 만들어져 있는 코드 중 특정 기능을 함수로 만들고 저장한 파일\n",
    "    - 프로그램을 만드는 노력이 절감되는 효과\n",
    "    - 검증된 코드이므로 오류가 적음\n",
    "    - 대표적인 라이브러리 : sys, os, time, calendar, random, math 등\n",
    "\n"
   ]
  },
  {
   "cell_type": "code",
   "execution_count": 5,
   "id": "03207585",
   "metadata": {},
   "outputs": [
    {
     "name": "stdout",
     "output_type": "stream",
     "text": [
      "당신이 입력한 애플+망고를 연결한 문장은 애플망고입니다.\n"
     ]
    }
   ],
   "source": [
    "'''\n",
    "실습예제 1\n",
    "Q. 사용자로부터 총 2개의 문자열을 입력받아 이를 연결해서 문장을 출력해보자\n",
    "제약사항. 각 입력 문자열은 각각 1개씩만 입력받는다\n",
    "\n",
    "Input : 어떤 문자를 입력하시겠습니까? 애플\n",
    "        어떤 문자를 입력하시겠습니까? 망고\n",
    "Output : 당신이 입력한 애플+망고를 연결한 문장은 애플망고입니다.\n",
    "'''\n",
    "\n",
    "s1 = input(\"어떤 문자를 입력하시겠습니까?\")\n",
    "s2 = input(\"어떤 문자를 입력하시겠습니까?\")\n",
    "\n",
    "print(\"당신이 입력한 \"+s1+\"+\"+s2+\"를 연결한 문장은 \"+s1+s2+\"입니다.\")"
   ]
  },
  {
   "cell_type": "code",
   "execution_count": null,
   "id": "77f2be35",
   "metadata": {},
   "outputs": [
    {
     "name": "stdout",
     "output_type": "stream",
     "text": [
      "당신이 입력한 애플+망고를 연결한 문장은 애플망고입니다.\n"
     ]
    }
   ],
   "source": [
    "#f-string 포맷팅\n",
    "\n",
    "s1 = input(\"어떤 문자를 입력하시겠습니까?\")\n",
    "s2 = input(\"어떤 문자를 입력하시겠습니까?\")\n",
    "\n",
    "result = s1+s2\n",
    "\n",
    "print(f\"당신이 입력한 {s1}+{s2}를 연결한 문장은 {result}입니다.\")"
   ]
  },
  {
   "cell_type": "code",
   "execution_count": null,
   "id": "4556f5b5",
   "metadata": {},
   "outputs": [
    {
     "name": "stdout",
     "output_type": "stream",
     "text": [
      "리스트(list_1)에 입력된 내용:['참고사항', 프로그래밍을통한문제해결', upside down']\n",
      "list_1의 index[1]과 list_2의 index[1]을 연결(+)하면 프로그래밍을통한문제해결2023이다.\n"
     ]
    }
   ],
   "source": [
    "'''\n",
    "실습예제 2\n",
    "Q. 빈 리스트에 3개의 단어를 사용자로부터 입력받아 그 결과를 출력하고 두 개의 리스트에서 1번째 인덱스값을 연결해 출력하시오\n",
    "제약사항 : 3개의 단어를 입력받을 때 반복문(for or while)을 이용하여 입력받아 빈 리스트(list_1)에 추가한다.\n",
    "          list_2=[\"시간\",\"2023\",\"가나다라\"]로 작성한다\n",
    "\n",
    "Input : 원하는 단어를 입력하세요>> 참고사항\n",
    "        원하는 단어를 입력하세요>> 프로그래밍을통한문제해결\n",
    "        원하는 단어를 입력하세요>> upside down\n",
    "Output : 리스트(list_1)에 입력된 내용:['참고사항', '프로그래밍을통한문제해결', 'upside down']\n",
    "         list_1의 index[1]과 list_2의 index[1]을 연결하면 프로그래밍을통한문제해결2023이다.\n",
    "'''\n",
    "\n",
    "list_1 = []\n",
    "\n",
    "for i in range(3):\n",
    "    s = input(\"원하는 단어를 입력하세요>>\")\n",
    "    list_1.append(s)\n",
    "\n",
    "list_2 = [\"시간\", \"2023\", \"가나다라\"]\n",
    "\n",
    "result = list_1[1]+list_2[1]\n",
    "\n",
    "print(f\"리스트(list_1)에 입력된 내용:['{list_1[0]}', '{list_1[1]}', '{list_1[2]}']\")\n",
    "print(f\"list_1의 index[1]과 list_2의 index[1]을 연결(+)하면 {result}이다.\")\n"
   ]
  },
  {
   "cell_type": "code",
   "execution_count": 9,
   "id": "3d22b9d0",
   "metadata": {},
   "outputs": [
    {
     "name": "stdout",
     "output_type": "stream",
     "text": [
      "리스트(list_1)에 입력된 내용: ['참고사항', '프로그래밍을통한문제해결', 'upside down']\n",
      "list_1의 index[1]과 list_2의 index[1]을 연결(+)하면 프로그래밍을통한문제해결2023이다.\n"
     ]
    }
   ],
   "source": [
    "list_1 = []\n",
    "\n",
    "for i in range(3):\n",
    "    s = input(\"원하는 단어를 입력하세요>>\")\n",
    "    list_1.append(s)\n",
    "\n",
    "list_2 = [\"시간\", \"2023\", \"가나다라\"]\n",
    "\n",
    "result = list_1[1]+list_2[1]\n",
    "\n",
    "print(f\"리스트(list_1)에 입력된 내용: {list_1}\")\n",
    "print(f\"list_1의 index[1]과 list_2의 index[1]을 연결(+)하면 {result}이다.\")"
   ]
  },
  {
   "cell_type": "code",
   "execution_count": 10,
   "id": "2c3fc335",
   "metadata": {},
   "outputs": [
    {
     "name": "stdout",
     "output_type": "stream",
     "text": [
      "리스트(list_1)에 입력된 내용: ['참고사항', '프로그래밍을통한문제해결', 'upside down']\n",
      "list_1의 index[1]과 list_2의 index[1]을 연결(+)하면 프로그래밍을통한문제해결2023이다.\n"
     ]
    }
   ],
   "source": [
    "#while문 일때\n",
    "\n",
    "list_1 = []\n",
    "list_2 = [\"시간\", \"2023\", \"가나다라\"]\n",
    "\n",
    "i = 1\n",
    "\n",
    "while i<4:\n",
    "    s = input(\"원하는 단어를 입력하세요>>\")\n",
    "    list_1.append(s)\n",
    "    i = i+1\n",
    "\n",
    "result = list_1[1]+list_2[1]\n",
    "\n",
    "print(f\"리스트(list_1)에 입력된 내용: {list_1}\")\n",
    "print(f\"list_1의 index[1]과 list_2의 index[1]을 연결(+)하면 {result}이다.\")"
   ]
  },
  {
   "cell_type": "markdown",
   "id": "4553216c",
   "metadata": {},
   "source": [
    "- 인덱싱 : 인덱스를 이용해 원하는 위치에 접근하는 것\n",
    "    - 인덱스는 항상 0부터 시작한다\n",
    "    - 리버스인덱싱을 이용해 -를 이용한 표현도 가능하다\n",
    "- 슬라이싱 : 일정 범위를 인덱스를 이용해 불러오는 것"
   ]
  },
  {
   "cell_type": "code",
   "execution_count": null,
   "id": "404bd1f8",
   "metadata": {},
   "outputs": [
    {
     "name": "stdout",
     "output_type": "stream",
     "text": [
      "당신이 찾는 땅콩은/는 5개 있습니다\n"
     ]
    }
   ],
   "source": [
    "'''\n",
    "실습예제 3\n",
    "Q. 빈 딕셔너리에 게임 아이템 총 3개를 입력받고 이들 딕셔너리에서 찾고자 하는 아이템을 검색해\n",
    "   만약 있다면 몇개가 있는지를 출력하고, 찾는 아이템이 없다면 없다고 메시지를 출력해보자 \n",
    "제약사항 : 게임 아이템=dict() 즉, 처음에는 빈 딕셔너리로 표현한다\n",
    "          빈 딕셔너리에 게임 아이템 입력 시 반복문(for문)을 이용해 입력받는다\n",
    "          게임 아이템명과 개수를 사용자로부터 입력받는다\n",
    "          게임 아이템에서 찾고자 하는 아이템이 있다면 get()을 이용해 몇개가 있는지 출력한다\n",
    "\n",
    "Input : 게임 아이템 입력하기>>> 영롱한 망토\n",
    "        구매할 개수는 몇 개입니까? 1\n",
    "        게임 아이템 입력하기>>> 땅콩\n",
    "        구매할 개수는 몇 개입니까? 5\n",
    "        게임 아이템 입력하기>>> 붉고 푸른 검\n",
    "        구매할 개수는 몇 개입니까? 2\n",
    "Output : \n",
    "        (찾는 아이템이 있는 경우)\n",
    "        당신이 확인하고 싶은 아이템은 무엇입니까? 땅콩\n",
    "        당신이 찾는 땅콩은/는 5개 있습니다\n",
    "        (찾는 아이템이 없는 경우)\n",
    "        당신이 확인하고 싶은 아이템은 무엇입니까? 마법사\n",
    "        당신이 찾는 마법사은/는 없습니다.\n",
    "'''\n",
    "\n",
    "items = dict()\n",
    "\n",
    "for i in range(3):\n",
    "    s = input(\"게임 아이템 입력하기>>>\")\n",
    "    c = int(input(\"구매할 개수는 몇 개입니까?\"))\n",
    "    items[s] = c\n",
    "\n",
    "#print(items)\n",
    "\n",
    "quest = input(\"당신이 확인하고 싶은 아이템은 무엇입니까?\")\n",
    "test = items.get(quest)\n",
    "\n",
    "if quest in items:\n",
    "    print(f\"당신이 찾는 {quest}은/는 {test}개 있습니다\")\n",
    "else:\n",
    "    print(f\"당신이 찾는 {quest}은/는 없습니다.\")\n"
   ]
  },
  {
   "cell_type": "markdown",
   "id": "61c3ffec",
   "metadata": {},
   "source": [
    "** 딕셔너리에서 get()의 사용 **  \n",
    "만약 data = {\"name\" : \"Alice\", \"age\" : 25} 라고 딕셔너리가 저장되어 있는 경우  \n",
    "- 일반적으로 data[\"name\"]과 같이 대괄호로 접근을 하여 \"Alice\"라는 출력을 얻는다\n",
    "- 그러나 get을 사용해서도 비슷한 결과를 얻을 수 있다.\n",
    "    - data.get(\"name\") 으로 접근하면 \"Alice\"라는 출력을 얻을 수 있다."
   ]
  },
  {
   "cell_type": "code",
   "execution_count": 15,
   "id": "0d7a2119",
   "metadata": {},
   "outputs": [
    {
     "name": "stdout",
     "output_type": "stream",
     "text": [
      "교집합 : a&b = {1, 2, 6}\n",
      "합집합 : a|b = {1, 2, 3, 4, 5, 6, 7, 10, 11, 12}\n",
      "차집합 : a-b = {3, 4, 5, 7}\n"
     ]
    }
   ],
   "source": [
    "'''\n",
    "실습예제 4\n",
    "Q. 리스트1, 리스트2를 각각 세트1, 세트2로 변환하여 교집합, 합집합, 차집합 연산을 해보자.\n",
    "제약사항 : 함수를 이용해 집합 연산을 계산할 수 있도록 표현해서 결과를 출력하게 한다.\n",
    "<함수 정의>\n",
    "def list_set(a, b):\n",
    "    교집합\n",
    "    합집합\n",
    "    차집합\n",
    "<함수 호출>\n",
    "list_set(s1, s2)\n",
    "\n",
    "Input : 리스트1=[1, 3, 2, 3, 4, 5, 6, 5, 7]\n",
    "        리스트2=[1, 2, 6, 10, 11, 12]\n",
    "Output : 교집합 : a&b = {1, 2, 6}\n",
    "         합집합 : a|b = {1, 2, 3, 4, 5, 6, 7, 10, 11, 12}\n",
    "         차집합 : a-b = {3, 4, 5, 7}\n",
    "'''\n",
    "\n",
    "def list_set(a, b):\n",
    "    a1 = a&b\n",
    "    print(f\"교집합 : a&b = {a1}\")\n",
    "    a2 = a|b\n",
    "    print(f\"합집합 : a|b = {a2}\")\n",
    "    a3 = a-b\n",
    "    print(f\"차집합 : a-b = {a3}\")\n",
    "\n",
    "\n",
    "list1 = [1, 3, 2, 3, 4, 5, 6, 5, 7]\n",
    "list2 = [1, 2, 6, 10, 11, 12]\n",
    "set1 = set(list1)\n",
    "set2 = set(list2)\n",
    "list_set(set1, set2)"
   ]
  },
  {
   "cell_type": "markdown",
   "id": "7699b8a9",
   "metadata": {},
   "source": [
    "**set는 중복 요소가 있는 경우 사용하면 좋은 방법**  \n",
    "- 또한 순서가 중요하지 않다.  \n",
    "- 인덱스 연산은 할 수 없으나 집합에서 사용되는 교집합(&), 합집합(|), 차집합(-) 등과 같은 연산자의 결과를 얻을 수 있다.  "
   ]
  },
  {
   "cell_type": "code",
   "execution_count": 3,
   "id": "1f2557d7",
   "metadata": {},
   "outputs": [
    {
     "name": "stdout",
     "output_type": "stream",
     "text": [
      "인덱스번호[i]:1\n",
      "인덱스번호[i]:2\n",
      "인덱스번호[i]:3\n",
      "인덱스번호[i]:4\n",
      "인덱스번호[i]:5\n",
      "인덱스번호와 값: (0, 1)\n",
      "인덱스번호와 값: (1, 2)\n",
      "인덱스번호와 값: (2, 3)\n",
      "인덱스번호와 값: (3, 4)\n",
      "인덱스번호와 값: (4, 5)\n",
      "('새삥', 96)\n",
      "('That That', 12)\n",
      "('Attention', 10)\n"
     ]
    }
   ],
   "source": [
    "'''\n",
    "실습예제 5\n",
    "Q. 제어문 중 반복문을 이용해 다음의 리스트 내용을 enumerate와 zip을 이용해서 튜플 형식으로 출력하시오\n",
    "제약사항 : 반복문 for문을 사용한다.\n",
    "          enumerate에서는 test 리스트를 사용하고 zip에서는 list_1과 list_2를 이용한다\n",
    "\n",
    "\n",
    "Input : 리스트를 다음과 같이 구성한다.\n",
    "        test = [1, 2, 3, 4, 5]\n",
    "        list_1 = ['새삥', 'That That', 'Attention']\n",
    "        list_2 = [96, 12, 10, 27]\n",
    "Output : <리스트>\n",
    "        인덱스번호[0]:1\n",
    "        인덱스번호[1]:2\n",
    "        인덱스번호[2]:3\n",
    "        인덱스번호[3]:4\n",
    "        인덱스번호[4]:5\n",
    "\n",
    "        <튜플형식변환>\n",
    "        인덱스번호와 값:(0, 1)\n",
    "        인덱스번호와 값:(1, 2)\n",
    "        인덱스번호와 값:(2, 3)\n",
    "        인덱스번호와 값:(3, 4)\n",
    "        인덱스번호와 값:(4, 5)\n",
    "\n",
    "        ('새삥', 96)\n",
    "        ('That That', 12)\n",
    "        ('Attention', 10)\n",
    "'''\n",
    "\n",
    "test = [1, 2, 3, 4, 5]\n",
    "list_1 = ['새삥', 'That That', 'Attention']\n",
    "list_2 = [96, 12, 10, 27]\n",
    "\n",
    "for i in range(len(test)):\n",
    "    print(f'인덱스번호[i]:{test[i]}')\n",
    "\n",
    "for i in enumerate(test):\n",
    "    print(f'인덱스번호와 값: {i}')\n",
    "\n",
    "for i in zip(list_1, list_2):\n",
    "    print(i)\n"
   ]
  },
  {
   "cell_type": "markdown",
   "id": "2c22623e",
   "metadata": {},
   "source": [
    "- enumerate() : 반복문을 사용할 때 인덱스와 값을 튜플로 반환해 인덱스 번호를 알고싶을 때 사용\n",
    "- zip() : 반복문을 이용해서 동일한 리스트 인덱스 위치의 값이 같은 자료들끼리 묶어준다 -> 튜플 형태로 출력"
   ]
  },
  {
   "cell_type": "code",
   "execution_count": null,
   "id": "ef126180",
   "metadata": {},
   "outputs": [
    {
     "name": "stdout",
     "output_type": "stream",
     "text": [
      "1 2 3 [4, 5] \n",
      "\n",
      "12가 확인되어 반복문을 빠져나갑니다.\n"
     ]
    }
   ],
   "source": [
    "'''\n",
    "실습예제 6\n",
    "Q. 다음과 같이 사용자 정의 함수 밖의 리스트를 사용해서 이 값들을 입력받아 각각 값을 출력해보자.\n",
    "제약사항 : 단, 12라는 값이 입력되면 리스트에 값이 남아있더라도 \"12가 확인되어 반복문을 빠져나갑니다.\"라는\n",
    "         메시지와 함께 반복문을 빠져나오고 종료한다.\n",
    "\n",
    "\n",
    "Input : num = [1, 2, 3, [4, 5], 12, 6, [7, 9]]\n",
    "Output : 1 2 3 [4, 5]\n",
    "         12가 확인되어 반복문을 빠져나갑니다.\n",
    "'''\n",
    "\n",
    "num = [1, 2, 3, [4, 5], 12, 6, [7, 9]]\n",
    "\n",
    "def check_12(a):\n",
    "    for i in num:\n",
    "        if i == 12:\n",
    "            print(\"\\n\")\n",
    "            print(\"12가 확인되어 반복문을 빠져나갑니다.\")\n",
    "            break  #반복문이 다 끝나지 않아도 특정 조건을 만족하면 빠져나올 수 있음 \n",
    "        else:\n",
    "            print(i, end=\" \")\n",
    "\n",
    "\n",
    "check_12(num)"
   ]
  },
  {
   "cell_type": "code",
   "execution_count": null,
   "id": "dac7ffde",
   "metadata": {},
   "outputs": [
    {
     "name": "stdout",
     "output_type": "stream",
     "text": [
      "현재시간:1755777542.9324908\n",
      "연도, 월, 시, 분, 초:time.struct_time(tm_year=2025, tm_mon=8, tm_mday=21, tm_hour=20, tm_min=59, tm_sec=3, tm_wday=3, tm_yday=233, tm_isdst=0)\n",
      "연도:2025\n"
     ]
    }
   ],
   "source": [
    "'''\n",
    "실습예제 7\n",
    "Q. 다음은 함수 모듈이다. 이 모듈들이 어떠한 결과를 출력하는지 확인해보자\n",
    "제약사항 : 많은 모듈 중 6개의 모듈 time, random, math, sys, os, calendar에 대해서 간단히 다뤄보자\n",
    "'''\n",
    "\n",
    "#time 모듈\n",
    "import time\n",
    "\n",
    "print(f'현재시간:{time.time()}')        #UTC를 사용하여 현재 시간을 초단위로 보여준다 \n",
    "time.sleep(0.5) #0.5초 쉬라는 의미\n",
    "print(f'연도, 월, 시, 분, 초:{time.localtime()}')    #연도, 월, 시 분, 초 등의 형태로 보여준다 \n",
    "print(f'연도:{time.localtime(time.time()).tm_year}')"
   ]
  },
  {
   "cell_type": "code",
   "execution_count": null,
   "id": "b375549e",
   "metadata": {},
   "outputs": [
    {
     "name": "stdout",
     "output_type": "stream",
     "text": [
      "c\n",
      "['d', 'a', 'c']\n",
      "4\n",
      "10\n"
     ]
    }
   ],
   "source": [
    "#random 모듈(난수 발생)\n",
    "import random\n",
    "\n",
    "alpabet_list=[\"a\", \"b\", \"c\", \"d\", \"e\"]\n",
    "text1=random.choice(alpabet_list)  #리스트 값 중 하나를 임의로 선택\n",
    "text2=random.sample(alpabet_list, 3)   #리스트 값 중에섯 지정한 개수만큼 중복 없이 임의로 선택하여 보여줌\n",
    "text3=random.randrange(2, 10)   #(시작값, 종료값) 범위 안에서 정수하나를 임의로 선택하여 보여줌 \n",
    "text4=random.randint(2, 10)\n",
    "\n",
    "print(text1)\n",
    "print(text2)\n",
    "print(text3)\n",
    "print(text4)"
   ]
  },
  {
   "cell_type": "code",
   "execution_count": null,
   "id": "184401c8",
   "metadata": {},
   "outputs": [
    {
     "name": "stdout",
     "output_type": "stream",
     "text": [
      "8.0\n",
      "4\n",
      "2\n"
     ]
    }
   ],
   "source": [
    "#math 모듈\n",
    "import math\n",
    "\n",
    "num1 = math.pow(2, 3)   #거듭제곱\n",
    "num2 = math.ceil(3.16)  #소수점 아래 무조건 올림\n",
    "num3 = math.floor(2.9)  #소수점 아래 무조건 버림 \n",
    "\n",
    "print(num1)\n",
    "print(num2)\n",
    "print(num3)"
   ]
  },
  {
   "cell_type": "code",
   "execution_count": null,
   "id": "6fd697ff",
   "metadata": {},
   "outputs": [
    {
     "data": {
      "text/plain": [
       "['c:\\\\Users\\\\hyelimlee\\\\anaconda3\\\\envs\\\\openpose3.8\\\\python38.zip',\n",
       " 'c:\\\\Users\\\\hyelimlee\\\\anaconda3\\\\envs\\\\openpose3.8\\\\DLLs',\n",
       " 'c:\\\\Users\\\\hyelimlee\\\\anaconda3\\\\envs\\\\openpose3.8\\\\lib',\n",
       " 'c:\\\\Users\\\\hyelimlee\\\\anaconda3\\\\envs\\\\openpose3.8',\n",
       " '',\n",
       " 'c:\\\\Users\\\\hyelimlee\\\\anaconda3\\\\envs\\\\openpose3.8\\\\lib\\\\site-packages',\n",
       " 'c:\\\\Users\\\\hyelimlee\\\\anaconda3\\\\envs\\\\openpose3.8\\\\lib\\\\site-packages\\\\win32',\n",
       " 'c:\\\\Users\\\\hyelimlee\\\\anaconda3\\\\envs\\\\openpose3.8\\\\lib\\\\site-packages\\\\win32\\\\lib',\n",
       " 'c:\\\\Users\\\\hyelimlee\\\\anaconda3\\\\envs\\\\openpose3.8\\\\lib\\\\site-packages\\\\Pythonwin']"
      ]
     },
     "execution_count": 16,
     "metadata": {},
     "output_type": "execute_result"
    }
   ],
   "source": [
    "#sys 모듈\n",
    "import sys\n",
    "\n",
    "sys.path  #모듈이 저장된 위치 확인 \n",
    "#sys.exit  #강제로 스크립트 종료"
   ]
  },
  {
   "cell_type": "code",
   "execution_count": null,
   "id": "34465c36",
   "metadata": {},
   "outputs": [
    {
     "data": {
      "text/plain": [
       "environ{'ALLUSERSPROFILE': 'C:\\\\ProgramData',\n",
       "        'APPDATA': 'C:\\\\Users\\\\hyelimlee\\\\AppData\\\\Roaming',\n",
       "        'BLAS_HOME': 'E:\\\\OpenBLAS',\n",
       "        'CHROME_CRASHPAD_PIPE_NAME': '\\\\\\\\.\\\\pipe\\\\crashpad_22348_EZOWSYSKAMFOAPDE',\n",
       "        'COMMONPROGRAMFILES': 'C:\\\\Program Files\\\\Common Files',\n",
       "        'COMMONPROGRAMFILES(X86)': 'C:\\\\Program Files (x86)\\\\Common Files',\n",
       "        'COMMONPROGRAMW6432': 'C:\\\\Program Files\\\\Common Files',\n",
       "        'COMPUTERNAME': '이혜림',\n",
       "        'COMSPEC': 'C:\\\\WINDOWS\\\\system32\\\\cmd.exe',\n",
       "        'CONDA_DEFAULT_ENV': 'openpose3.8',\n",
       "        'CONDA_EXE': 'C:\\\\Users\\\\hyelimlee\\\\anaconda3\\\\Scripts\\\\conda.exe',\n",
       "        'CONDA_PREFIX': 'C:\\\\Users\\\\hyelimlee\\\\anaconda3\\\\envs\\\\openpose3.8',\n",
       "        'CONDA_PROMPT_MODIFIER': '(openpose3.8) ',\n",
       "        'CONDA_PYTHON_EXE': 'C:\\\\Users\\\\hyelimlee\\\\anaconda3\\\\python.exe',\n",
       "        'CONDA_ROOT': 'C:\\\\Users\\\\hyelimlee\\\\anaconda3',\n",
       "        'CONDA_SHLVL': '1',\n",
       "        'DRIVERDATA': 'C:\\\\Windows\\\\System32\\\\Drivers\\\\DriverData',\n",
       "        'EFC_11848_1592913036': '1',\n",
       "        'ELECTRON_RUN_AS_NODE': '1',\n",
       "        'HOMEDRIVE': 'C:',\n",
       "        'HOMEPATH': '\\\\Users\\\\hyelimlee',\n",
       "        'INTEL_DEV_REDIST': 'C:\\\\Program Files (x86)\\\\Common Files\\\\Intel\\\\Shared Libraries\\\\',\n",
       "        'JPY_INTERRUPT_EVENT': '1816',\n",
       "        'LAPACK_HOME': 'E:\\\\OpenBLAS',\n",
       "        'LOCALAPPDATA': 'C:\\\\Users\\\\hyelimlee\\\\AppData\\\\Local',\n",
       "        'LOGONSERVER': '\\\\\\\\이혜림',\n",
       "        'MIC_LD_LIBRARY_PATH': 'C:\\\\Program Files (x86)\\\\Common Files\\\\Intel\\\\Shared Libraries\\\\compiler\\\\lib\\\\mic',\n",
       "        'NUMBER_OF_PROCESSORS': '16',\n",
       "        'ONEDRIVE': 'E:\\\\OneDrive',\n",
       "        'ONEDRIVECONSUMER': 'E:\\\\OneDrive',\n",
       "        'ORIGINAL_XDG_CURRENT_DESKTOP': 'undefined',\n",
       "        'OS': 'Windows_NT',\n",
       "        'PATH': 'c:\\\\Users\\\\hyelimlee\\\\anaconda3\\\\envs\\\\openpose3.8;C:\\\\Users\\\\hyelimlee\\\\anaconda3\\\\envs\\\\openpose3.8;C:\\\\Users\\\\hyelimlee\\\\anaconda3\\\\envs\\\\openpose3.8\\\\Library\\\\mingw-w64\\\\bin;C:\\\\Users\\\\hyelimlee\\\\anaconda3\\\\envs\\\\openpose3.8\\\\Library\\\\usr\\\\bin;C:\\\\Users\\\\hyelimlee\\\\anaconda3\\\\envs\\\\openpose3.8\\\\Library\\\\bin;C:\\\\Users\\\\hyelimlee\\\\anaconda3\\\\envs\\\\openpose3.8\\\\Scripts;C:\\\\Users\\\\hyelimlee\\\\anaconda3\\\\envs\\\\openpose3.8\\\\bin;C:\\\\Users\\\\hyelimlee\\\\anaconda3\\\\condabin;E:\\\\Microsoft Visual Studio\\\\2019\\\\Enterprise\\\\VC\\\\Tools\\\\MSVC\\\\14.29.30133\\\\bin;C:\\\\WINDOWS\\\\system32;C:\\\\WINDOWS;C:\\\\WINDOWS\\\\System32\\\\Wbem;C:\\\\WINDOWS\\\\System32\\\\WindowsPowerShell\\\\v1.0;C:\\\\WINDOWS\\\\System32\\\\OpenSSH;C:\\\\Users\\\\hyelimlee\\\\anaconda3;C:\\\\Users\\\\hyelimlee\\\\anaconda3\\\\Scripts;C:\\\\Program Files\\\\Git\\\\cmd;D:\\\\CMake\\\\bin;C:\\\\Program Files\\\\Microsoft SQL Server\\\\130\\\\Tools\\\\Binn;E:\\\\CMake\\\\bin;E:\\\\bin;C:\\\\Windows\\\\System32\\\\OpenSSH;C:\\\\Users\\\\hyelimlee\\\\anaconda3\\\\Library\\\\bin;C:\\\\Program Files\\\\Bandizip;E:\\\\OpenBLAS\\\\lib;C:\\\\Users\\\\hyelimlee\\\\AppData\\\\Local\\\\Microsoft\\\\WindowsApps;C:\\\\Users\\\\hyelimlee\\\\AppData\\\\Local\\\\Programs\\\\Microsoft VS Code\\\\bin;C:\\\\Users\\\\hyelimlee\\\\AppData\\\\Local\\\\GitHubDesktop\\\\bin;E:\\\\msys64\\\\mingw64\\\\bin;.',\n",
       "        'PATHEXT': '.COM;.EXE;.BAT;.CMD;.VBS;.VBE;.JS;.JSE;.WSF;.WSH;.MSC',\n",
       "        'PROCESSOR_ARCHITECTURE': 'AMD64',\n",
       "        'PROCESSOR_IDENTIFIER': 'Intel64 Family 6 Model 154 Stepping 3, GenuineIntel',\n",
       "        'PROCESSOR_LEVEL': '6',\n",
       "        'PROCESSOR_REVISION': '9a03',\n",
       "        'PROGRAMDATA': 'C:\\\\ProgramData',\n",
       "        'PROGRAMFILES': 'C:\\\\Program Files',\n",
       "        'PROGRAMFILES(X86)': 'C:\\\\Program Files (x86)',\n",
       "        'PROGRAMW6432': 'C:\\\\Program Files',\n",
       "        'PROMPT': '(openpose3.8) $P$G',\n",
       "        'PSMODULEPATH': 'C:\\\\Program Files\\\\WindowsPowerShell\\\\Modules;C:\\\\WINDOWS\\\\system32\\\\WindowsPowerShell\\\\v1.0\\\\Modules',\n",
       "        'PUBLIC': 'C:\\\\Users\\\\Public',\n",
       "        'PYDEVD_IPYTHON_COMPATIBLE_DEBUGGING': '1',\n",
       "        'PYTHONIOENCODING': 'utf-8',\n",
       "        'PYTHONUNBUFFERED': '1',\n",
       "        'PYTHONUTF8': '1',\n",
       "        'PYTHON_FROZEN_MODULES': 'on',\n",
       "        'SESSIONNAME': 'Console',\n",
       "        'SSL_CERT_FILE': 'C:\\\\Users\\\\hyelimlee\\\\anaconda3\\\\envs\\\\openpose3.8\\\\Library\\\\ssl\\\\cacert.pem',\n",
       "        'SYSTEMDRIVE': 'C:',\n",
       "        'SYSTEMROOT': 'C:\\\\WINDOWS',\n",
       "        'TEMP': 'C:\\\\Users\\\\HYELIM~1\\\\AppData\\\\Local\\\\Temp',\n",
       "        'TMP': 'C:\\\\Users\\\\HYELIM~1\\\\AppData\\\\Local\\\\Temp',\n",
       "        'USERDOMAIN': '이혜림',\n",
       "        'USERDOMAIN_ROAMINGPROFILE': '이혜림',\n",
       "        'USERNAME': 'hyelimlee',\n",
       "        'USERPROFILE': 'C:\\\\Users\\\\hyelimlee',\n",
       "        'VSCODE_CODE_CACHE_PATH': 'C:\\\\Users\\\\hyelimlee\\\\AppData\\\\Roaming\\\\Code\\\\CachedData\\\\360a4e4fd251bfce169a4ddf857c7d25d1ad40da',\n",
       "        'VSCODE_CRASH_REPORTER_PROCESS_TYPE': 'extensionHost',\n",
       "        'VSCODE_CWD': 'C:\\\\Users\\\\hyelimlee\\\\AppData\\\\Local\\\\Programs\\\\Microsoft VS Code',\n",
       "        'VSCODE_ESM_ENTRYPOINT': 'vs/workbench/api/node/extensionHostProcess',\n",
       "        'VSCODE_HANDLES_UNCAUGHT_ERRORS': 'true',\n",
       "        'VSCODE_IPC_HOOK': '\\\\\\\\.\\\\pipe\\\\9ae0a316-1.103.1-main-sock',\n",
       "        'VSCODE_L10N_BUNDLE_LOCATION': '',\n",
       "        'VSCODE_NLS_CONFIG': '{\"userLocale\":\"en-us\",\"osLocale\":\"ko\",\"resolvedLanguage\":\"en\",\"defaultMessagesFile\":\"C:\\\\\\\\Users\\\\\\\\hyelimlee\\\\\\\\AppData\\\\\\\\Local\\\\\\\\Programs\\\\\\\\Microsoft VS Code\\\\\\\\resources\\\\\\\\app\\\\\\\\out\\\\\\\\nls.messages.json\",\"locale\":\"en-us\",\"availableLanguages\":{}}',\n",
       "        'VSCODE_PID': '22348',\n",
       "        'WINDIR': 'C:\\\\WINDOWS',\n",
       "        'ZES_ENABLE_SYSMAN': '1',\n",
       "        '_CONDA_OLD_CHCP': '949',\n",
       "        '__CONDA_OPENSLL_CERT_FILE_SET': '\"1\"',\n",
       "        'PYDEVD_USE_FRAME_EVAL': 'NO',\n",
       "        'TERM': 'xterm-color',\n",
       "        'CLICOLOR': '1',\n",
       "        'FORCE_COLOR': '1',\n",
       "        'CLICOLOR_FORCE': '1',\n",
       "        'PAGER': 'cat',\n",
       "        'GIT_PAGER': 'cat',\n",
       "        'MPLBACKEND': 'module://matplotlib_inline.backend_inline'}"
      ]
     },
     "execution_count": 17,
     "metadata": {},
     "output_type": "execute_result"
    }
   ],
   "source": [
    "#os 모듈\n",
    "import os\n",
    "\n",
    "os.system(\"dir\")  \n",
    "os.environ         #현재 시스템 환경 변수값을 보여줌"
   ]
  },
  {
   "cell_type": "code",
   "execution_count": null,
   "id": "d0461668",
   "metadata": {},
   "outputs": [
    {
     "name": "stdout",
     "output_type": "stream",
     "text": [
      "                                  2023\n",
      "\n",
      "      January                   February                   March\n",
      "Mo Tu We Th Fr Sa Su      Mo Tu We Th Fr Sa Su      Mo Tu We Th Fr Sa Su\n",
      "                   1             1  2  3  4  5             1  2  3  4  5\n",
      " 2  3  4  5  6  7  8       6  7  8  9 10 11 12       6  7  8  9 10 11 12\n",
      " 9 10 11 12 13 14 15      13 14 15 16 17 18 19      13 14 15 16 17 18 19\n",
      "16 17 18 19 20 21 22      20 21 22 23 24 25 26      20 21 22 23 24 25 26\n",
      "23 24 25 26 27 28 29      27 28                     27 28 29 30 31\n",
      "30 31\n",
      "\n",
      "       April                      May                       June\n",
      "Mo Tu We Th Fr Sa Su      Mo Tu We Th Fr Sa Su      Mo Tu We Th Fr Sa Su\n",
      "                1  2       1  2  3  4  5  6  7                1  2  3  4\n",
      " 3  4  5  6  7  8  9       8  9 10 11 12 13 14       5  6  7  8  9 10 11\n",
      "10 11 12 13 14 15 16      15 16 17 18 19 20 21      12 13 14 15 16 17 18\n",
      "17 18 19 20 21 22 23      22 23 24 25 26 27 28      19 20 21 22 23 24 25\n",
      "24 25 26 27 28 29 30      29 30 31                  26 27 28 29 30\n",
      "\n",
      "        July                     August                  September\n",
      "Mo Tu We Th Fr Sa Su      Mo Tu We Th Fr Sa Su      Mo Tu We Th Fr Sa Su\n",
      "                1  2          1  2  3  4  5  6                   1  2  3\n",
      " 3  4  5  6  7  8  9       7  8  9 10 11 12 13       4  5  6  7  8  9 10\n",
      "10 11 12 13 14 15 16      14 15 16 17 18 19 20      11 12 13 14 15 16 17\n",
      "17 18 19 20 21 22 23      21 22 23 24 25 26 27      18 19 20 21 22 23 24\n",
      "24 25 26 27 28 29 30      28 29 30 31               25 26 27 28 29 30\n",
      "31\n",
      "\n",
      "      October                   November                  December\n",
      "Mo Tu We Th Fr Sa Su      Mo Tu We Th Fr Sa Su      Mo Tu We Th Fr Sa Su\n",
      "                   1             1  2  3  4  5                   1  2  3\n",
      " 2  3  4  5  6  7  8       6  7  8  9 10 11 12       4  5  6  7  8  9 10\n",
      " 9 10 11 12 13 14 15      13 14 15 16 17 18 19      11 12 13 14 15 16 17\n",
      "16 17 18 19 20 21 22      20 21 22 23 24 25 26      18 19 20 21 22 23 24\n",
      "23 24 25 26 27 28 29      27 28 29 30               25 26 27 28 29 30 31\n",
      "30 31\n",
      "\n",
      "                                  2023\n",
      "\n",
      "      January                   February                   March\n",
      "Mo Tu We Th Fr Sa Su      Mo Tu We Th Fr Sa Su      Mo Tu We Th Fr Sa Su\n",
      "                   1             1  2  3  4  5             1  2  3  4  5\n",
      " 2  3  4  5  6  7  8       6  7  8  9 10 11 12       6  7  8  9 10 11 12\n",
      " 9 10 11 12 13 14 15      13 14 15 16 17 18 19      13 14 15 16 17 18 19\n",
      "16 17 18 19 20 21 22      20 21 22 23 24 25 26      20 21 22 23 24 25 26\n",
      "23 24 25 26 27 28 29      27 28                     27 28 29 30 31\n",
      "30 31\n",
      "\n",
      "       April                      May                       June\n",
      "Mo Tu We Th Fr Sa Su      Mo Tu We Th Fr Sa Su      Mo Tu We Th Fr Sa Su\n",
      "                1  2       1  2  3  4  5  6  7                1  2  3  4\n",
      " 3  4  5  6  7  8  9       8  9 10 11 12 13 14       5  6  7  8  9 10 11\n",
      "10 11 12 13 14 15 16      15 16 17 18 19 20 21      12 13 14 15 16 17 18\n",
      "17 18 19 20 21 22 23      22 23 24 25 26 27 28      19 20 21 22 23 24 25\n",
      "24 25 26 27 28 29 30      29 30 31                  26 27 28 29 30\n",
      "\n",
      "        July                     August                  September\n",
      "Mo Tu We Th Fr Sa Su      Mo Tu We Th Fr Sa Su      Mo Tu We Th Fr Sa Su\n",
      "                1  2          1  2  3  4  5  6                   1  2  3\n",
      " 3  4  5  6  7  8  9       7  8  9 10 11 12 13       4  5  6  7  8  9 10\n",
      "10 11 12 13 14 15 16      14 15 16 17 18 19 20      11 12 13 14 15 16 17\n",
      "17 18 19 20 21 22 23      21 22 23 24 25 26 27      18 19 20 21 22 23 24\n",
      "24 25 26 27 28 29 30      28 29 30 31               25 26 27 28 29 30\n",
      "31\n",
      "\n",
      "      October                   November                  December\n",
      "Mo Tu We Th Fr Sa Su      Mo Tu We Th Fr Sa Su      Mo Tu We Th Fr Sa Su\n",
      "                   1             1  2  3  4  5                   1  2  3\n",
      " 2  3  4  5  6  7  8       6  7  8  9 10 11 12       4  5  6  7  8  9 10\n",
      " 9 10 11 12 13 14 15      13 14 15 16 17 18 19      11 12 13 14 15 16 17\n",
      "16 17 18 19 20 21 22      20 21 22 23 24 25 26      18 19 20 21 22 23 24\n",
      "23 24 25 26 27 28 29      27 28 29 30               25 26 27 28 29 30 31\n",
      "30 31\n",
      "(4, 31)\n"
     ]
    }
   ],
   "source": [
    "#calendar 모듈\n",
    "import calendar\n",
    "\n",
    "print(calendar.calendar(2023))  #그 해의 전체 달력을 보여줌\n",
    "calendar.prcal(2023)            #그 해의 전체 달력을 보여줌\n",
    "calendar.weekday(2023, 12, 10)  #날짜에 해당하는 요일 정보를 보여줌\n",
    "print(calendar.monthrange(2023, 12))   #입력받은 달의 1일이 무슨요일인지, 며칠까지 있는지 튜플형식으로 보여줌\n"
   ]
  },
  {
   "cell_type": "code",
   "execution_count": null,
   "id": "85a7daa3",
   "metadata": {},
   "outputs": [],
   "source": []
  }
 ],
 "metadata": {
  "kernelspec": {
   "display_name": "openpose",
   "language": "python",
   "name": "openpose3.8"
  },
  "language_info": {
   "codemirror_mode": {
    "name": "ipython",
    "version": 3
   },
   "file_extension": ".py",
   "mimetype": "text/x-python",
   "name": "python",
   "nbconvert_exporter": "python",
   "pygments_lexer": "ipython3",
   "version": "3.8.18"
  }
 },
 "nbformat": 4,
 "nbformat_minor": 5
}
