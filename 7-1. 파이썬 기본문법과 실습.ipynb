{
 "cells": [
  {
   "cell_type": "markdown",
   "id": "5dce7e77",
   "metadata": {},
   "source": [
    "1. 파이썬의 기본문법\n",
    "- 자료형 : 기본 or 컬렉션\n",
    "    - 기본\n",
    "        - 수치형(정수형, 실수형)\n",
    "        - 논리형(부울형)\n",
    "    - 컬렉션\n",
    "        - 문자열\n",
    "        - 리스트\n",
    "        - 튜플\n",
    "        - 딕셔너리\n",
    "        - 세트\n",
    "\n",
    "- 제어문\n",
    "    - 순차구조 : 차례대로 처음부터 끝까지 순차적으로 진행하는 것\n",
    "    - 선택구조 : 주어진 조건에 따라 선택하는 것\n",
    "    - 반복구조 : 주어진 조건을 만족할 때는 계속 반복, 만족하지 않을 때는 빠져나옴\n",
    "        - for문 : 대부분 반복할 횟수를 정확히 알고 있을 때 많이 사용\n",
    "        - while문 : 조건을 만족하는 동안 반복할 때 사용\n",
    "\n",
    "- 함수 : 여러개의 코드 또는 명령문을 하나의 함수로 묶어서 만들고 필요할 때 호출하는 형태\n",
    "    - 프로그램을 구조화함\n",
    "    - 가독성이 좋아지도록 함\n",
    "    - def 라는 예약어를 이용해 함수 이름을 정의\n",
    "    - 반드시 함수를 호출(call)해야함\n",
    "\n",
    "- 함수모듈 : 비슷한 함수끼리 또는 변수끼리 모아둔 파일\n",
    "    - 이미 만들어져 있는 코드 중 특정 기능을 함수로 만들고 저장한 파일\n",
    "    - 프로그램을 만드는 노력이 절감되는 효과\n",
    "    - 검증된 코드이므로 오류가 적음\n",
    "    - 대표적인 라이브러리 : sys, os, time, calendar, random, math 등\n",
    "\n"
   ]
  },
  {
   "cell_type": "code",
   "execution_count": 5,
   "id": "03207585",
   "metadata": {},
   "outputs": [
    {
     "name": "stdout",
     "output_type": "stream",
     "text": [
      "당신이 입력한 애플+망고를 연결한 문장은 애플망고입니다.\n"
     ]
    }
   ],
   "source": [
    "'''\n",
    "실습예제 1\n",
    "Q. 사용자로부터 총 2개의 문자열을 입력받아 이를 연결해서 문장을 출력해보자\n",
    "제약사항. 각 입력 문자열은 각각 1개씩만 입력받는다\n",
    "\n",
    "Input : 어떤 문자를 입력하시겠습니까? 애플\n",
    "        어떤 문자를 입력하시겠습니까? 망고\n",
    "Output : 당신이 입력한 애플+망고를 연결한 문장은 애플망고입니다.\n",
    "'''\n",
    "\n",
    "s1 = input(\"어떤 문자를 입력하시겠습니까?\")\n",
    "s2 = input(\"어떤 문자를 입력하시겠습니까?\")\n",
    "\n",
    "print(\"당신이 입력한 \"+s1+\"+\"+s2+\"를 연결한 문장은 \"+s1+s2+\"입니다.\")"
   ]
  },
  {
   "cell_type": "code",
   "execution_count": null,
   "id": "77f2be35",
   "metadata": {},
   "outputs": [
    {
     "name": "stdout",
     "output_type": "stream",
     "text": [
      "당신이 입력한 애플+망고를 연결한 문장은 애플망고입니다.\n"
     ]
    }
   ],
   "source": [
    "#f-string 포맷팅\n",
    "\n",
    "s1 = input(\"어떤 문자를 입력하시겠습니까?\")\n",
    "s2 = input(\"어떤 문자를 입력하시겠습니까?\")\n",
    "\n",
    "result = s1+s2\n",
    "\n",
    "print(f\"당신이 입력한 {s1}+{s2}를 연결한 문장은 {result}입니다.\")"
   ]
  },
  {
   "cell_type": "code",
   "execution_count": null,
   "id": "4556f5b5",
   "metadata": {},
   "outputs": [
    {
     "name": "stdout",
     "output_type": "stream",
     "text": [
      "리스트(list_1)에 입력된 내용:['참고사항', 프로그래밍을통한문제해결', upside down']\n",
      "list_1의 index[1]과 list_2의 index[1]을 연결(+)하면 프로그래밍을통한문제해결2023이다.\n"
     ]
    }
   ],
   "source": [
    "'''\n",
    "실습예제 2\n",
    "Q. 빈 리스트에 3개의 단어를 사용자로부터 입력받아 그 결과를 출력하고 두 개의 리스트에서 1번째 인덱스값을 연결해 출력하시오\n",
    "제약사항 : 3개의 단어를 입력받을 때 반복문(for or while)을 이용하여 입력받아 빈 리스트(list_1)에 추가한다.\n",
    "          list_2=[\"시간\",\"2023\",\"가나다라\"]로 작성한다\n",
    "\n",
    "Input : 원하는 단어를 입력하세요>> 참고사항\n",
    "        원하는 단어를 입력하세요>> 프로그래밍을통한문제해결\n",
    "        원하는 단어를 입력하세요>> upside down\n",
    "Output : 리스트(list_1)에 입력된 내용:['참고사항', '프로그래밍을통한문제해결', 'upside down']\n",
    "         list_1의 index[1]과 list_2의 index[1]을 연결하면 프로그래밍을통한문제해결2023이다.\n",
    "'''\n",
    "\n",
    "list_1 = []\n",
    "\n",
    "for i in range(3):\n",
    "    s = input(\"원하는 단어를 입력하세요>>\")\n",
    "    list_1.append(s)\n",
    "\n",
    "list_2 = [\"시간\", \"2023\", \"가나다라\"]\n",
    "\n",
    "result = list_1[1]+list_2[1]\n",
    "\n",
    "print(f\"리스트(list_1)에 입력된 내용:['{list_1[0]}', '{list_1[1]}', '{list_1[2]}']\")\n",
    "print(f\"list_1의 index[1]과 list_2의 index[1]을 연결(+)하면 {result}이다.\")\n"
   ]
  },
  {
   "cell_type": "code",
   "execution_count": 9,
   "id": "3d22b9d0",
   "metadata": {},
   "outputs": [
    {
     "name": "stdout",
     "output_type": "stream",
     "text": [
      "리스트(list_1)에 입력된 내용: ['참고사항', '프로그래밍을통한문제해결', 'upside down']\n",
      "list_1의 index[1]과 list_2의 index[1]을 연결(+)하면 프로그래밍을통한문제해결2023이다.\n"
     ]
    }
   ],
   "source": [
    "list_1 = []\n",
    "\n",
    "for i in range(3):\n",
    "    s = input(\"원하는 단어를 입력하세요>>\")\n",
    "    list_1.append(s)\n",
    "\n",
    "list_2 = [\"시간\", \"2023\", \"가나다라\"]\n",
    "\n",
    "result = list_1[1]+list_2[1]\n",
    "\n",
    "print(f\"리스트(list_1)에 입력된 내용: {list_1}\")\n",
    "print(f\"list_1의 index[1]과 list_2의 index[1]을 연결(+)하면 {result}이다.\")"
   ]
  },
  {
   "cell_type": "code",
   "execution_count": 10,
   "id": "2c3fc335",
   "metadata": {},
   "outputs": [
    {
     "name": "stdout",
     "output_type": "stream",
     "text": [
      "리스트(list_1)에 입력된 내용: ['참고사항', '프로그래밍을통한문제해결', 'upside down']\n",
      "list_1의 index[1]과 list_2의 index[1]을 연결(+)하면 프로그래밍을통한문제해결2023이다.\n"
     ]
    }
   ],
   "source": [
    "#while문 일때\n",
    "\n",
    "list_1 = []\n",
    "list_2 = [\"시간\", \"2023\", \"가나다라\"]\n",
    "\n",
    "i = 1\n",
    "\n",
    "while i<4:\n",
    "    s = input(\"원하는 단어를 입력하세요>>\")\n",
    "    list_1.append(s)\n",
    "    i = i+1\n",
    "\n",
    "result = list_1[1]+list_2[1]\n",
    "\n",
    "print(f\"리스트(list_1)에 입력된 내용: {list_1}\")\n",
    "print(f\"list_1의 index[1]과 list_2의 index[1]을 연결(+)하면 {result}이다.\")"
   ]
  },
  {
   "cell_type": "markdown",
   "id": "4553216c",
   "metadata": {},
   "source": [
    "- 인덱싱 : 인덱스를 이용해 원하는 위치에 접근하는 것\n",
    "    - 인덱스는 항상 0부터 시작한다\n",
    "    - 리버스인덱싱을 이용해 -를 이용한 표현도 가능하다\n",
    "- 슬라이싱 : 일정 범위를 인덱스를 이용해 불러오는 것"
   ]
  },
  {
   "cell_type": "code",
   "execution_count": null,
   "id": "404bd1f8",
   "metadata": {},
   "outputs": [
    {
     "name": "stdout",
     "output_type": "stream",
     "text": [
      "당신이 찾는 땅콩은/는 5개 있습니다\n"
     ]
    }
   ],
   "source": [
    "'''\n",
    "실습예제 3\n",
    "Q. 빈 딕셔너리에 게임 아이템 총 3개를 입력받고 이들 딕셔너리에서 찾고자 하는 아이템을 검색해\n",
    "   만약 있다면 몇개가 있는지를 출력하고, 찾는 아이템이 없다면 없다고 메시지를 출력해보자 \n",
    "제약사항 : 게임 아이템=dict() 즉, 처음에는 빈 딕셔너리로 표현한다\n",
    "          빈 딕셔너리에 게임 아이템 입력 시 반복문(for문)을 이용해 입력받는다\n",
    "          게임 아이템명과 개수를 사용자로부터 입력받는다\n",
    "          게임 아이템에서 찾고자 하는 아이템이 있다면 get()을 이용해 몇개가 있는지 출력한다\n",
    "\n",
    "Input : 게임 아이템 입력하기>>> 영롱한 망토\n",
    "        구매할 개수는 몇 개입니까? 1\n",
    "        게임 아이템 입력하기>>> 땅콩\n",
    "        구매할 개수는 몇 개입니까? 5\n",
    "        게임 아이템 입력하기>>> 붉고 푸른 검\n",
    "        구매할 개수는 몇 개입니까? 2\n",
    "Output : \n",
    "        (찾는 아이템이 있는 경우)\n",
    "        당신이 확인하고 싶은 아이템은 무엇입니까? 땅콩\n",
    "        당신이 찾는 땅콩은/는 5개 있습니다\n",
    "        (찾는 아이템이 없는 경우)\n",
    "        당신이 확인하고 싶은 아이템은 무엇입니까? 마법사\n",
    "        당신이 찾는 마법사은/는 없습니다.\n",
    "'''\n",
    "\n",
    "items = dict()\n",
    "\n",
    "for i in range(3):\n",
    "    s = input(\"게임 아이템 입력하기>>>\")\n",
    "    c = int(input(\"구매할 개수는 몇 개입니까?\"))\n",
    "    items[s] = c\n",
    "\n",
    "#print(items)\n",
    "\n",
    "quest = input(\"당신이 확인하고 싶은 아이템은 무엇입니까?\")\n",
    "test = items.get(quest)\n",
    "\n",
    "if quest in items:\n",
    "    print(f\"당신이 찾는 {quest}은/는 {test}개 있습니다\")\n",
    "else:\n",
    "    print(f\"당신이 찾는 {quest}은/는 없습니다.\")\n"
   ]
  },
  {
   "cell_type": "markdown",
   "id": "61c3ffec",
   "metadata": {},
   "source": [
    "** 딕셔너리에서 get()의 사용 **  \n",
    "만약 data = {\"name\" : \"Alice\", \"age\" : 25} 라고 딕셔너리가 저장되어 있는 경우  \n",
    "- 일반적으로 data[\"name\"]과 같이 대괄호로 접근을 하여 \"Alice\"라는 출력을 얻는다\n",
    "- 그러나 get을 사용해서도 비슷한 결과를 얻을 수 있다.\n",
    "    - data.get(\"name\") 으로 접근하면 \"Alice\"라는 출력을 얻을 수 있다."
   ]
  },
  {
   "cell_type": "code",
   "execution_count": null,
   "id": "0d7a2119",
   "metadata": {},
   "outputs": [],
   "source": []
  }
 ],
 "metadata": {
  "kernelspec": {
   "display_name": "openpose",
   "language": "python",
   "name": "openpose3.8"
  },
  "language_info": {
   "codemirror_mode": {
    "name": "ipython",
    "version": 3
   },
   "file_extension": ".py",
   "mimetype": "text/x-python",
   "name": "python",
   "nbconvert_exporter": "python",
   "pygments_lexer": "ipython3",
   "version": "3.8.18"
  }
 },
 "nbformat": 4,
 "nbformat_minor": 5
}
